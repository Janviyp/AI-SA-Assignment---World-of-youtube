{
 "cells": [
  {
   "cell_type": "code",
   "execution_count": 1,
   "id": "2daf11aa",
   "metadata": {},
   "outputs": [
    {
     "name": "stdout",
     "output_type": "stream",
     "text": [
      "Data cleaning complete. Cleaned file saved as 'channels_cleaned.csv'.\n"
     ]
    }
   ],
   "source": [
    "import pandas as pd\n",
    "\n",
    "\n",
    "file_path = \"channels.csv\"  \n",
    "df = pd.read_csv(file_path)\n",
    "\n",
    "\n",
    "df_cleaned = df.drop(columns=[\"location\"])\n",
    "\n",
    "\n",
    "df_cleaned[\"join_date\"] = pd.to_datetime(df_cleaned[\"join_date\"], errors=\"coerce\")\n",
    "\n",
    "\n",
    "df_cleaned[\"country\"].fillna(\"Unknown\", inplace=True)\n",
    "df_cleaned[\"description\"].fillna(\"No description available\", inplace=True)\n",
    "df_cleaned[\"title\"].fillna(\"Untitled\", inplace=True)\n",
    "df_cleaned[\"trailer_title\"].fillna(\"No trailer title\", inplace=True)\n",
    "\n",
    "\n",
    "df_cleaned.drop_duplicates(inplace=True)\n",
    "\n",
    "\n",
    "df_cleaned.to_csv(\"channels_cleaned.csv\", index=False)\n",
    "\n",
    "print(\"Data cleaning complete. Cleaned file saved as 'channels_cleaned.csv'.\")\n"
   ]
  },
  {
   "cell_type": "code",
   "execution_count": null,
   "id": "69dd8cee",
   "metadata": {},
   "outputs": [],
   "source": []
  }
 ],
 "metadata": {
  "kernelspec": {
   "display_name": "Python 3 (ipykernel)",
   "language": "python",
   "name": "python3"
  },
  "language_info": {
   "codemirror_mode": {
    "name": "ipython",
    "version": 3
   },
   "file_extension": ".py",
   "mimetype": "text/x-python",
   "name": "python",
   "nbconvert_exporter": "python",
   "pygments_lexer": "ipython3",
   "version": "3.11.3"
  }
 },
 "nbformat": 4,
 "nbformat_minor": 5
}
